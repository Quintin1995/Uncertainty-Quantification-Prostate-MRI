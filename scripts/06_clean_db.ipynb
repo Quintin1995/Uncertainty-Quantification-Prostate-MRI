{
 "cells": [
  {
   "cell_type": "markdown",
   "metadata": {},
   "source": [
    "# Clean the database and ensure it is ready for predictions."
   ]
  },
  {
   "cell_type": "code",
   "execution_count": 7,
   "metadata": {},
   "outputs": [],
   "source": [
    "from pathlib import Path\n",
    "from sqlite3 import connect\n",
    "from typing import Union\n",
    "\n",
    "db_path = \"/home1/p290820/repos/Uncertainty-Quantification-Prostate-MRI/databases/master_habrok_20231106_v2.db\"\n"
   ]
  },
  {
   "cell_type": "markdown",
   "metadata": {},
   "source": [
    "## Delete all gaussian_ids"
   ]
  },
  {
   "cell_type": "code",
   "execution_count": null,
   "metadata": {},
   "outputs": [
    {
     "name": "stdout",
     "output_type": "stream",
     "text": [
      "Deleted all rows from 'patients_uq' where gaussian_id > 0.\n"
     ]
    }
   ],
   "source": [
    "def delete_entries_with_gaussian_id_greater_than_zero(db_path: Union[str, Path]) -> None:\n",
    "    \"\"\"\n",
    "    Delete all rows from the 'patients_uq' table where gaussian_id > 0.\n",
    "    \n",
    "    Args:\n",
    "        db_path (Union[str, Path]): The file path to the SQLite database.\n",
    "    \"\"\"\n",
    "    db_path = Path(db_path) if not isinstance(db_path, Path) else db_path\n",
    "    conn = connect(str(db_path))\n",
    "    try:\n",
    "        cursor = conn.cursor()\n",
    "        cursor.execute(\"DELETE FROM patients_uq WHERE gaussian_id > 0\")\n",
    "        conn.commit()\n",
    "        print(f\"Deleted all rows from 'patients_uq' where gaussian_id > 0.\")\n",
    "    finally:\n",
    "        conn.close()\n",
    "\n",
    "\n",
    "delete_entries_with_gaussian_id_greater_than_zero(db_path)"
   ]
  },
  {
   "cell_type": "markdown",
   "metadata": {},
   "source": [
    "## Set all recon_paths to NULL"
   ]
  },
  {
   "cell_type": "code",
   "execution_count": 9,
   "metadata": {},
   "outputs": [
    {
     "name": "stdout",
     "output_type": "stream",
     "text": [
      "Set 'recon_path' to NULL for all entries in 'patients_uq'.\n"
     ]
    }
   ],
   "source": [
    "def reset_recon_path_to_null(db_path: Union[str, Path]) -> None:\n",
    "    \"\"\"\n",
    "    Set the 'recon_path' column to NULL for all entries in the 'patients_uq' table.\n",
    "    \n",
    "    Args:\n",
    "        db_path (Union[str, Path]): The file path to the SQLite database.\n",
    "    \"\"\"\n",
    "    db_path = Path(db_path) if not isinstance(db_path, Path) else db_path\n",
    "    conn = connect(str(db_path))\n",
    "    try:\n",
    "        cursor = conn.cursor()\n",
    "        cursor.execute(\"UPDATE patients_uq SET recon_path = NULL\")\n",
    "        conn.commit()\n",
    "        print(f\"Set 'recon_path' to NULL for all entries in 'patients_uq'.\")\n",
    "    finally:\n",
    "        conn.close()\n",
    "\n",
    "\n",
    "reset_recon_path_to_null(db_path)"
   ]
  }
 ],
 "metadata": {
  "kernelspec": {
   "display_name": "Python (jupytervenv)",
   "language": "python",
   "name": "jupytervenv"
  },
  "language_info": {
   "codemirror_mode": {
    "name": "ipython",
    "version": 3
   },
   "file_extension": ".py",
   "mimetype": "text/x-python",
   "name": "python",
   "nbconvert_exporter": "python",
   "pygments_lexer": "ipython3",
   "version": "3.10.4"
  }
 },
 "nbformat": 4,
 "nbformat_minor": 2
}
