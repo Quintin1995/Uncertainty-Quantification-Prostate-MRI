{
 "cells": [
  {
   "cell_type": "markdown",
   "id": "bfdcbc7b",
   "metadata": {},
   "source": [
    "# Figures for the manuscript\n",
    "\n",
    "\n"
   ]
  },
  {
   "cell_type": "code",
   "execution_count": null,
   "id": "d761cb40",
   "metadata": {},
   "outputs": [],
   "source": [
    "# Figure 2. Qualitative comparison of error and uncertainty maps.\n",
    "\n",
    "# Patient A   R1   Recon R3   |Err| R3   σ R3   Recon R6   |Err| R6   σ R6\n",
    "# Patient B   R1   Recon R3   |Err| R3   σ R3   Recon R6   |Err| R6   σ R6\n",
    "# Patient C   R1   Recon R3   |Err| R3   σ R3   Recon R6   |Err| R6   σ R6\n",
    "\n",
    "\n",
    "# Patient High cor      | R1 | R3 | R6 | Err_R3  Err_R6 | σR3 | σR6\n",
    "# Patient Moderate cor  | R1 | R3 | R6 | Err_R3  Err_R6 | σR3 | σR6\n",
    "# Patient Low cor       | R1 | R3 | R6 | Err_R3  Err_R6 | σR3 | σR6\n"
   ]
  },
  {
   "cell_type": "code",
   "execution_count": 2,
   "id": "53397db9",
   "metadata": {},
   "outputs": [],
   "source": [
    "high_alignment_case = {\n",
    "    'pat_id': '0033_ANON9728185',\n",
    "    'slice_idx': 9,\n",
    "    'acc_factor': 6,\n",
    "    'uq_method': 'lxo',\n",
    "    'region': 'slice',\n",
    "    'spearman_corr': 0.923969160393271, \n",
    "}\n",
    "\n",
    "moderate_alignment_case = {\n",
    "    'pat_id': '0142_ANON7090827',\n",
    "    'slice_idx': 22,\n",
    "    'acc_factor': 6,\n",
    "    'uq_method': 'lxo',\n",
    "    'region': 'slice',\n",
    "    'spearman_corr': 0.500958650318622,\n",
    "}\n",
    "\n",
    "low_alignment_case = {\n",
    "    'pat_id': '0068_ANON7978458',\n",
    "    'slice_idx': 17,\n",
    "    'acc_factor': 6,\n",
    "    'uq_method': 'lxo',\n",
    "    'region': 'slice',\n",
    "    'spearman_corr': 0.0539105638880588,\n",
    "}\n",
    "\n",
    "cases = [high_alignment_case, moderate_alignment_case, low_alignment_case]"
   ]
  },
  {
   "cell_type": "code",
   "execution_count": null,
   "id": "dd7f3b92",
   "metadata": {},
   "outputs": [],
   "source": [
    "\n",
    "#1. Load R1s\n",
    "\n",
    "#2. Load R3s\n",
    "\n",
    "#2. Load R6s\n",
    "\n",
    "\n"
   ]
  }
 ],
 "metadata": {
  "kernelspec": {
   "display_name": "jupyter_env",
   "language": "python",
   "name": "python3"
  },
  "language_info": {
   "codemirror_mode": {
    "name": "ipython",
    "version": 3
   },
   "file_extension": ".py",
   "mimetype": "text/x-python",
   "name": "python",
   "nbconvert_exporter": "python",
   "pygments_lexer": "ipython3",
   "version": "3.10.4"
  }
 },
 "nbformat": 4,
 "nbformat_minor": 5
}
