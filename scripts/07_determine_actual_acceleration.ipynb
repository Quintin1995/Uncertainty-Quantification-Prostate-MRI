{
 "cells": [
  {
   "cell_type": "markdown",
   "metadata": {},
   "source": [
    "# Read in the acceleration mask for k-space and determine the accelration factor for R=3 and R=6"
   ]
  },
  {
   "cell_type": "code",
   "execution_count": 3,
   "metadata": {},
   "outputs": [],
   "source": [
    "from pathlib import Path\n",
    "import SimpleITK as sitk\n",
    "\n",
    "\n",
    "mask_r6_fpath = Path('/scratch/hb-pca-rad/projects/04_uncertainty_quantification/gaussian/recons_6x/0003_ANON5046358/VSharpNet_R6_mask.nii.gz')"
   ]
  },
  {
   "cell_type": "code",
   "execution_count": null,
   "metadata": {},
   "outputs": [
    {
     "name": "stdout",
     "output_type": "stream",
     "text": [
      "Shape of the mask: (30, 768, 651)\n",
      "Number of non-zero columns: 163\n",
      "Acceleration factor (mask ratio): 3.9938650306748467\n",
      "Acceleration factor after combining with base factor: 11.98159509202454\n",
      "Final acceleration factor after adjustment: 5.99079754601227\n"
     ]
    }
   ],
   "source": [
    "# --- Step 1: Load the Sampling Mask ---\n",
    "# Read the k-space mask (which indicates which columns are measured)\n",
    "mask_r6 = sitk.ReadImage(str(mask_r6_fpath))\n",
    "mask_r6_arr = sitk.GetArrayFromImage(mask_r6)\n",
    "print(f\"Shape of the mask: {mask_r6_arr.shape}\")  # Expected shape: (slices, rows, cols)\n",
    "\n",
    "# --- Step 2: Determine Measured Columns ---\n",
    "# We count the number of non-zero columns (i.e., columns with any measured data)\n",
    "# \"any(axis=(0, 1))\" collapses slices and rows, leaving a boolean for each column.\n",
    "measured_cols = mask_r6_arr.any(axis=(0, 1)).sum()\n",
    "print(f\"Number of non-zero columns: {measured_cols}\")\n",
    "\n",
    "# Total number of columns (full k-space grid)\n",
    "all_lines = mask_r6_arr.shape[-1]\n",
    "\n",
    "# --- Step 3: Compute the Empirical Acceleration Factor ---\n",
    "# If fully sampled, all columns would be measured; hence, the ratio all_lines/measured_cols\n",
    "acc_factor = all_lines / measured_cols\n",
    "print(f\"Acceleration factor (mask ratio): {acc_factor}\")\n",
    "\n",
    "# --- Step 4: Incorporate the Acquisition Strategy ---\n",
    "# Our TSE sequence has 3 averages, but we use only 1, so the base acceleration is 3.\n",
    "base_acc_factor = 3\n",
    "\n",
    "# Multiply the base factor by the measured acceleration factor.\n",
    "final_acc = base_acc_factor * acc_factor\n",
    "print(f\"Acceleration factor after combining with base factor: {final_acc}\")\n",
    "\n",
    "# --- Step 5: Adjust for Partial Sampling per Average ---\n",
    "# Each average only acquires either odd or even lines,\n",
    "# so we divide by 2 to reflect that only half of the lines are actually measured in an average.\n",
    "final_acc /= 2\n",
    "print(f\"Final acceleration factor after adjustment: {final_acc}\")\n"
   ]
  }
 ],
 "metadata": {
  "kernelspec": {
   "display_name": "Python (jupytervenv)",
   "language": "python",
   "name": "jupytervenv"
  },
  "language_info": {
   "codemirror_mode": {
    "name": "ipython",
    "version": 3
   },
   "file_extension": ".py",
   "mimetype": "text/x-python",
   "name": "python",
   "nbconvert_exporter": "python",
   "pygments_lexer": "ipython3",
   "version": "3.10.4"
  }
 },
 "nbformat": 4,
 "nbformat_minor": 2
}
